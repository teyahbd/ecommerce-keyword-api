{
 "cells": [
  {
   "cell_type": "markdown",
   "metadata": {},
   "source": [
    "# Step Two: Training the Model\n",
    "\n",
    "After preparing our dataset into a corpus - a collection of sentences - we can train our model and create our custom word embeddings. This method uses the dataset created using the steps outlined in ```clean_data.ipynb```. However, this process should also work for any corpus formatted as a list of sentences in a text file. \n",
    "\n",
    "To create our word embeddings, we will make use of Word2Vec algorithms (see ```README.md``` for this directory for further details). "
   ]
  },
  {
   "cell_type": "markdown",
   "metadata": {},
   "source": [
    "### Requirements\n",
    "\n",
    "- We will use the ```Gensim``` library - a standard in natural language processing projects. More specifically, the [Word2Vec](https://radimrehurek.com/gensim/models/word2vec.html) module provides functions which will allow use to train and make use of our word embeddings. \n",
    "- We need a text corpus formatted as a text file containing a list of sentences to evaluate. "
   ]
  },
  {
   "cell_type": "code",
   "execution_count": 1,
   "metadata": {},
   "outputs": [],
   "source": [
    "from gensim.models import Word2Vec "
   ]
  },
  {
   "cell_type": "markdown",
   "metadata": {},
   "source": [
    "### Creating and Training the Model\n",
    "\n",
    "We can now train our ```Word2Vec``` model! The code below is deceptively simple as it contains a massive amount of functionality. By inputting our corpus at the start when initialising the model, the steps of building vocabulary and training the model can be completed in one go. This can also be done a step at a time, see the [documentation here](https://radimrehurek.com/gensim/models/word2vec.html) for examples. \n",
    "\n",
    "Additionally, there are many parameters that can be set to control the features and implementation of the model. For example, you can select between the *skip-gram* or the *CBOW (continuous bag of words)* algorithms. While the many options are certainly worth playing with, for now we will keep it simple. The one optional parameter we will set is ```min_count```. This sets the frequency below which all less-frequent words should be ignored. As our dataset is relatively small, we will set this at 1 so as many words as possible are included in our word embeddings."
   ]
  },
  {
   "cell_type": "code",
   "execution_count": 2,
   "metadata": {},
   "outputs": [],
   "source": [
    "model = Word2Vec(min_count=1, corpus_file=\"./cleaned_dataset.txt\")"
   ]
  },
  {
   "cell_type": "markdown",
   "metadata": {},
   "source": [
    "### Extracting the Word Vectors\n",
    "\n",
    "We have our model! We can do things such as save or load this model, but for now we want to access our custom trained word vectors. Since we've finished the training, we no longer need the full model state. We can extract the vectors and keys alone - a much smaller and faster object than the full model - to use in our API functionality. "
   ]
  },
  {
   "cell_type": "code",
   "execution_count": 3,
   "metadata": {},
   "outputs": [],
   "source": [
    "word_vectors = model.wv"
   ]
  },
  {
   "cell_type": "markdown",
   "metadata": {},
   "source": [
    "### Using the Word Vectors\n",
    "\n",
    "Now we have our word embeddings, we can use them to explore the relationships between words from our dataset! The most important functionality for our use is finding similar keywords for a given word. Let's try to find the 10 words most similar to the word **heart**."
   ]
  },
  {
   "cell_type": "code",
   "execution_count": 4,
   "metadata": {},
   "outputs": [
    {
     "name": "stdout",
     "output_type": "stream",
     "text": [
      "Words most similar to heart are [('star', 0.6211225986480713), ('stars', 0.4231477677822113), ('tealight', 0.41314101219177246), ('chandelier', 0.3933226764202118), ('soap', 0.3559148609638214), ('sweetheart', 0.34627461433410645), ('candelabra', 0.3436214029788971), ('candle', 0.3421469032764435), ('chick', 0.341907262802124), ('butterfly', 0.34188321232795715)]\n"
     ]
    }
   ],
   "source": [
    "result = word_vectors.most_similar(\"heart\")\n",
    "\n",
    "print(\"Words most similar to heart are\", result)"
   ]
  },
  {
   "cell_type": "markdown",
   "metadata": {},
   "source": [
    "We can also create more complex queries. We can use multiple keywords to find words most similar to two or more keywords. Let's find words most similar to both **heart** and **bag**."
   ]
  },
  {
   "cell_type": "code",
   "execution_count": 5,
   "metadata": {},
   "outputs": [
    {
     "name": "stdout",
     "output_type": "stream",
     "text": [
      "Words most similar to heart and bag are [('star', 0.4442378580570221), ('bunting', 0.3719802498817444), ('box', 0.3513908088207245), ('wrap', 0.3339728116989136), ('tape', 0.314961701631546), ('sack', 0.3058159053325653), ('seat', 0.28364425897598267), ('tall', 0.2778041362762451), ('tags', 0.2703096866607666), ('candelabra', 0.2698701024055481)]\n"
     ]
    }
   ],
   "source": [
    "result = word_vectors.most_similar([\"heart\",\"bag\"])\n",
    "\n",
    "print(\"Words most similar to heart and bag are\", result)"
   ]
  },
  {
   "cell_type": "markdown",
   "metadata": {},
   "source": [
    "We can also input \"negative\" keywords - which contribute negatively to the similarity. For example, if we want keywords similar to **heart** but not similar to **star**, we can input an array of positive words and an array of negative words."
   ]
  },
  {
   "cell_type": "code",
   "execution_count": 6,
   "metadata": {},
   "outputs": [
    {
     "name": "stdout",
     "output_type": "stream",
     "text": [
      "Words most similar to heart but not to star are [('candle', 0.3717685341835022), ('sweetheart', 0.3148675560951233), ('photoframe', 0.28868839144706726), ('pan', 0.27283400297164917), ('cosy', 0.2717045843601227), ('buddha', 0.2684379518032074), ('eau', 0.2678031027317047), ('folding', 0.2647479772567749), ('shape', 0.2632621228694916), ('rose', 0.24988225102424622)]\n"
     ]
    }
   ],
   "source": [
    "positive_words = [\"heart\"]\n",
    "negative_words = [\"star\"]\n",
    "\n",
    "result = word_vectors.most_similar(positive=positive_words, negative=negative_words)\n",
    "\n",
    "print(\"Words most similar to heart but not to star are\", result)"
   ]
  },
  {
   "cell_type": "markdown",
   "metadata": {},
   "source": [
    "Both the positive and negative arrays can contain multiple keywords. See the [KeyedVectors documentation](https://radimrehurek.com/gensim/models/keyedvectors.html) for further details on this functionality."
   ]
  },
  {
   "cell_type": "markdown",
   "metadata": {},
   "source": [
    "### Saving and Loading the Word Vectors\n",
    "\n",
    "To make the most of our word vectors, we want to store and load them for use at a later date. We can do this by storing them as a text file. "
   ]
  },
  {
   "cell_type": "code",
   "execution_count": 7,
   "metadata": {},
   "outputs": [],
   "source": [
    "word_vectors.save_word2vec_format('ecommerce_vecs.txt', binary= False)"
   ]
  },
  {
   "cell_type": "markdown",
   "metadata": {},
   "source": [
    "We can then load them from the text file wherever we want! We just need to require the module ```KeyedVectors``` from ```Gensim``` in whatever file we wish to use our word vectors within. Then, we simply load them from the text file. "
   ]
  },
  {
   "cell_type": "code",
   "execution_count": 8,
   "metadata": {},
   "outputs": [
    {
     "name": "stdout",
     "output_type": "stream",
     "text": [
      "The words most similar to heart are [('star', 0.6211225986480713), ('stars', 0.4231477677822113), ('tealight', 0.41314101219177246), ('chandelier', 0.3933226764202118), ('soap', 0.3559148609638214), ('sweetheart', 0.34627461433410645), ('candelabra', 0.3436214029788971), ('candle', 0.3421469032764435), ('chick', 0.341907262802124), ('butterfly', 0.34188321232795715)]\n"
     ]
    }
   ],
   "source": [
    "from gensim.models import KeyedVectors\n",
    "\n",
    "word_vectors = KeyedVectors.load_word2vec_format(\"ecommerce_vecs.txt\", binary=False) \n",
    "\n",
    "result = word_vectors.most_similar(\"heart\")\n",
    "\n",
    "print(\"The words most similar to heart are\", result)"
   ]
  },
  {
   "cell_type": "markdown",
   "metadata": {},
   "source": [
    "For our keyword API, we can now load our word vectors into our ```model.py``` and create the functionality that accepts keywords in a POST request and returns similar words for future product searches. "
   ]
  }
 ],
 "metadata": {
  "kernelspec": {
   "display_name": "Python 3.10.6 64-bit",
   "language": "python",
   "name": "python3"
  },
  "language_info": {
   "codemirror_mode": {
    "name": "ipython",
    "version": 3
   },
   "file_extension": ".py",
   "mimetype": "text/x-python",
   "name": "python",
   "nbconvert_exporter": "python",
   "pygments_lexer": "ipython3",
   "version": "3.10.6"
  },
  "orig_nbformat": 4,
  "vscode": {
   "interpreter": {
    "hash": "916dbcbb3f70747c44a77c7bcd40155683ae19c65e1c03b4aa3499c5328201f1"
   }
  }
 },
 "nbformat": 4,
 "nbformat_minor": 2
}
